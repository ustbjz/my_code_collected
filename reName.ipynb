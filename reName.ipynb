{
 "cells": [
  {
   "cell_type": "code",
   "execution_count": 1,
   "id": "e56edcab-6382-4d4d-87a8-ae899c242ef0",
   "metadata": {},
   "outputs": [],
   "source": [
    "import os\n",
    "import re\n",
    "import sys"
   ]
  },
  {
   "cell_type": "code",
   "execution_count": 2,
   "id": "1a8ab7dd-475e-46e0-8e20-c7e0cf9baa5e",
   "metadata": {},
   "outputs": [],
   "source": [
    "def renameall():\n",
    "    fileList = os.listdir(r\"265_1\")       #待修改文件夹\n",
    "    print(\"修改前：\"+str(fileList))     #输出文件夹中包含的文件\n",
    "    currentpath = os.getcwd()       #得到进程当前工作目录\n",
    "    os.chdir(r\"265_1\")        #将当前工作目录修改为待修改文件夹的位置\n",
    "    num=1       #名称变量\n",
    "    for fileName in fileList:       #遍历文件夹中所有文件\n",
    "        os.rename(fileName,(str(num)+'.'+'h265'))       #文件重新命名\n",
    "        num = num+1     #改变编号，继续下一项\n",
    "    os.chdir(currentpath)       #改回程序运行前的工作目录\n",
    "    sys.stdin.flush()       #刷新"
   ]
  },
  {
   "cell_type": "code",
   "execution_count": 3,
   "id": "25047400-0004-44fa-91f2-f4160a0d9832",
   "metadata": {},
   "outputs": [
    {
     "name": "stdout",
     "output_type": "stream",
     "text": [
      "修改前：['1..h265', '10..h265', '11..h265', '12..h265', '13..h265', '14..h265', '15..h265', '16..h265', '17..h265', '18..h265', '19..h265', '2..h265', '20..h265', '21..h265', '22..h265', '23..h265', '24..h265', '25..h265', '26..h265', '27..h265', '28..h265', '29..h265', '3..h265', '30..h265', '31..h265', '32..h265', '33..h265', '34..h265', '35..h265', '4..h265', '5..h265', '6..h265', '7..h265', '8..h265', '9..h265']\n"
     ]
    }
   ],
   "source": [
    "renameall()"
   ]
  },
  {
   "cell_type": "code",
   "execution_count": null,
   "id": "4bbbc3d7-3092-4c5e-8e17-8a3cecb9177e",
   "metadata": {},
   "outputs": [],
   "source": []
  },
  {
   "cell_type": "code",
   "execution_count": null,
   "id": "b8e8ebf7-6a2a-4275-9168-3372c29e19e2",
   "metadata": {},
   "outputs": [],
   "source": []
  }
 ],
 "metadata": {
  "kernelspec": {
   "display_name": "Python 3 (ipykernel)",
   "language": "python",
   "name": "python3"
  },
  "language_info": {
   "codemirror_mode": {
    "name": "ipython",
    "version": 3
   },
   "file_extension": ".py",
   "mimetype": "text/x-python",
   "name": "python",
   "nbconvert_exporter": "python",
   "pygments_lexer": "ipython3",
   "version": "3.9.12"
  },
  "widgets": {
   "application/vnd.jupyter.widget-state+json": {
    "state": {},
    "version_major": 2,
    "version_minor": 0
   }
  }
 },
 "nbformat": 4,
 "nbformat_minor": 5
}
